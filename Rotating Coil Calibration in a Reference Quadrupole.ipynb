{
 "cells": [
  {
   "cell_type": "markdown",
   "metadata": {},
   "source": [
    "## Rotating coil calibration in a Reference Quadrupole"
   ]
  },
  {
   "cell_type": "code",
   "execution_count": 1,
   "metadata": {},
   "outputs": [],
   "source": [
    "import numpy as np\n",
    "import pandas as pd\n",
    "from sympy import *\n",
    "#from IPython.display import Latex\n",
    "import scipy\n",
    "init_printing(True)"
   ]
  },
  {
   "cell_type": "code",
   "execution_count": 2,
   "metadata": {},
   "outputs": [],
   "source": [
    "# Defining Variables\n",
    "An, Bn, Cn, i = symbols('A_n B_n C_n i')\n",
    "Za, Zb, C2, C1, d = symbols('z_a z_b C_2 C_1 d')\n",
    "delta_c1, psi_1, psi_2, kappa_n = symbols('Delta_C_1 Psi_1 Psi_2 kappa_n')\n",
    "Rref, R, R1, R2 = symbols('R_ref R R_1 R_2')\n",
    "Nt, N, W, n = symbols('N_t N W n')\n",
    "L, delta_x, delta_psi1, delta_z = symbols('L Delta_x Delta_Psi_1 Delta_z')"
   ]
  },
  {
   "cell_type": "markdown",
   "metadata": {},
   "source": [
    "## Definitions"
   ]
  },
  {
   "cell_type": "code",
   "execution_count": 3,
   "metadata": {},
   "outputs": [],
   "source": [
    "_harmonic_Cn = Eq(Cn, Bn+i*An)\n",
    "_raio_eq = Eq(R,(d*abs(C2*(Za))/(abs(delta_c1))))\n",
    "_sensitivity_coil = Eq(kappa_n, (Nt*L/n)*(R2**2-R1**2))\n",
    "_raio_psi = Eq(R,-(psi_2*delta_x)/delta_psi1)\n",
    "Dz = Eq(delta_z, -Rref*(C1/C2))"
   ]
  },
  {
   "cell_type": "markdown",
   "metadata": {},
   "source": [
    "#### Field Coefficients Cn n-harmonics"
   ]
  },
  {
   "cell_type": "code",
   "execution_count": 4,
   "metadata": {
    "scrolled": true
   },
   "outputs": [
    {
     "data": {
      "image/png": "[encoded data removed]",
      "text/latex": [
       "$\\displaystyle C_{n} = A_{n} i + B_{n}$"
      ],
      "text/plain": [
       "Cₙ = Aₙ⋅i + Bₙ"
      ]
     },
     "execution_count": 4,
     "metadata": {},
     "output_type": "execute_result"
    }
   ],
   "source": [
    "_harmonic_Cn"
   ]
  },
  {
   "cell_type": "markdown",
   "metadata": {},
   "source": [
    "#### Equivalent Radius R by Quadrupolar a nd Dipolar Field Coefficients (C2 and C1)"
   ]
  },
  {
   "cell_type": "code",
   "execution_count": 5,
   "metadata": {},
   "outputs": [
    {
     "data": {
      "image/png": "[encoded data removed]",
      "text/latex": [
       "$\\displaystyle R = \\frac{d \\left|{C_{2} z_{a}}\\right|}{\\left|{\\Delta_{C 1}}\\right|}$"
      ],
      "text/plain": [
       "    d⋅│C₂⋅zₐ│\n",
       "R = ─────────\n",
       "     │Δ_C_1│ "
      ]
     },
     "execution_count": 5,
     "metadata": {},
     "output_type": "execute_result"
    }
   ],
   "source": [
    "_raio_eq"
   ]
  },
  {
   "cell_type": "markdown",
   "metadata": {},
   "source": [
    "#### Coefficients of coil geometrical calibration (“sensitivity factors”) for a Radial Coil"
   ]
  },
  {
   "cell_type": "code",
   "execution_count": 6,
   "metadata": {},
   "outputs": [
    {
     "data": {
      "image/png": "[encoded data removed]",
      "text/latex": [
       "$\\displaystyle \\kappa_{n} = \\frac{L N_{t} \\left(- R_{1}^{2} + R_{2}^{2}\\right)}{n}$"
      ],
      "text/plain": [
       "          ⎛    2     2⎞\n",
       "     L⋅Nₜ⋅⎝- R₁  + R₂ ⎠\n",
       "κₙ = ──────────────────\n",
       "             n         "
      ]
     },
     "execution_count": 6,
     "metadata": {},
     "output_type": "execute_result"
    }
   ],
   "source": [
    "_sensitivity_coil"
   ]
  },
  {
   "cell_type": "markdown",
   "metadata": {},
   "source": [
    "#### Equivalent Radius R by Fast Fourier Transforms FFTs"
   ]
  },
  {
   "cell_type": "code",
   "execution_count": 7,
   "metadata": {
    "scrolled": true
   },
   "outputs": [
    {
     "data": {
      "image/png": "[encoded data removed]",
      "text/latex": [
       "$\\displaystyle R = - \\frac{\\Delta_{x} \\Psi_{2}}{\\Delta_{\\Psi 1}}$"
      ],
      "text/plain": [
       "    -Δₓ⋅Ψ₂ \n",
       "R = ───────\n",
       "     Δ_Ψ_1 "
      ]
     },
     "execution_count": 7,
     "metadata": {},
     "output_type": "execute_result"
    }
   ],
   "source": [
    "_raio_psi"
   ]
  },
  {
   "cell_type": "markdown",
   "metadata": {},
   "source": [
    "#### Displacement by a translation of the coil with respect to the magnet frame"
   ]
  },
  {
   "cell_type": "code",
   "execution_count": 8,
   "metadata": {
    "scrolled": true
   },
   "outputs": [
    {
     "data": {
      "image/png": "[encoded data removed]",
      "text/latex": [
       "$\\displaystyle \\Delta_{z} = - \\frac{C_{1} R_{ref}}{C_{2}}$"
      ],
      "text/plain": [
       "      -C₁⋅R_ref \n",
       "Δ_z = ──────────\n",
       "          C₂    "
      ]
     },
     "execution_count": 8,
     "metadata": {},
     "output_type": "execute_result"
    }
   ],
   "source": [
    "Dz"
   ]
  },
  {
   "cell_type": "markdown",
   "metadata": {},
   "source": [
    "#### Integrated Harmonics and FFT data collected from Rotating Coil Software for each of the transverse positions"
   ]
  },
  {
   "cell_type": "code",
   "execution_count": 9,
   "metadata": {},
   "outputs": [],
   "source": [
    "#Integrated Harmonics and FFT data collected from Rotating Coil Software\n",
    "\n",
    "_data = {'Align X[m]':[1.90E-06, 3.10E-03, 5.11E-03, 7.10E-03], #Transverse positions X(m)\n",
    "        'C1B1':[-0.00001023, 0.007826, 0.01288, 0.0179],        #Normal Dipole Harmonic Coefficient from RC measurement\n",
    "        'C1A1':[0.00001408, 0.0009623, 0.001574, 0.00218],      #Skew Dipole Harmonic Coefficient from RC measurement\n",
    "        'C2B2':[-2.532, -2.531, -2.527, -2.523],                #Normal Quadrupole Harmonic Coefficient from RC measurement\n",
    "        'C2A2':[0.0007507, 0.001985, 0.002042, 0.002367],       #Skew Quadrupole Harmonic Coefficient from RC measurement\n",
    "         \n",
    "        'psi1_Re':[-8.45429343507509E-08,-7.16704058687284E-06, -0.0000117335541415809, -0.0000162625958306119],#Dipole FFT real coefficient\n",
    "        'psi1_Im':[-6.32153757597669E-08, 0.0000478980739521517, 0.0000788405853764066, 0.000109575474462107],  #Dipole FFT imaginary coefficient\n",
    "        'psi2_Re':[0.0000105444963167842, 0.0000104417736817055, 0.0000104224663505433, 0.0000103792506990693], #Quadrupole FFT real coefficient\n",
    "        'psi2_Im':[-0.000202364029979841, -0.000202300726505883, -0.000202005712220605, -0.000201671841162564]} #Quadrupole FFT imaginary coefficient\n",
    "\n",
    "#Creating DataFrame\n",
    "_raw_data = pd.DataFrame.from_dict(_data)"
   ]
  },
  {
   "cell_type": "code",
   "execution_count": 10,
   "metadata": {
    "scrolled": true
   },
   "outputs": [
    {
     "data": {
      "text/html": [
       "<div>\n",
       "<style scoped>\n",
       "    .dataframe tbody tr th:only-of-type {\n",
       "        vertical-align: middle;\n",
       "    }\n",
       "\n",
       "    .dataframe tbody tr th {\n",
       "        vertical-align: top;\n",
       "    }\n",
       "\n",
       "    .dataframe thead th {\n",
       "        text-align: right;\n",
       "    }\n",
       "</style>\n",
       "<table border=\"1\" class=\"dataframe\">\n",
       "  <thead>\n",
       "    <tr style=\"text-align: right;\">\n",
       "      <th></th>\n",
       "      <th>Align X[m]</th>\n",
       "      <th>C1A1</th>\n",
       "      <th>C1B1</th>\n",
       "      <th>C2A2</th>\n",
       "      <th>C2B2</th>\n",
       "      <th>psi1_Im</th>\n",
       "      <th>psi1_Re</th>\n",
       "      <th>psi2_Im</th>\n",
       "      <th>psi2_Re</th>\n",
       "    </tr>\n",
       "  </thead>\n",
       "  <tbody>\n",
       "    <tr>\n",
       "      <th>0</th>\n",
       "      <td>0.000002</td>\n",
       "      <td>0.000014</td>\n",
       "      <td>-0.000010</td>\n",
       "      <td>0.000751</td>\n",
       "      <td>-2.532</td>\n",
       "      <td>-6.321538e-08</td>\n",
       "      <td>-8.454293e-08</td>\n",
       "      <td>-0.000202</td>\n",
       "      <td>0.000011</td>\n",
       "    </tr>\n",
       "    <tr>\n",
       "      <th>1</th>\n",
       "      <td>0.003100</td>\n",
       "      <td>0.000962</td>\n",
       "      <td>0.007826</td>\n",
       "      <td>0.001985</td>\n",
       "      <td>-2.531</td>\n",
       "      <td>4.789807e-05</td>\n",
       "      <td>-7.167041e-06</td>\n",
       "      <td>-0.000202</td>\n",
       "      <td>0.000010</td>\n",
       "    </tr>\n",
       "    <tr>\n",
       "      <th>2</th>\n",
       "      <td>0.005110</td>\n",
       "      <td>0.001574</td>\n",
       "      <td>0.012880</td>\n",
       "      <td>0.002042</td>\n",
       "      <td>-2.527</td>\n",
       "      <td>7.884059e-05</td>\n",
       "      <td>-1.173355e-05</td>\n",
       "      <td>-0.000202</td>\n",
       "      <td>0.000010</td>\n",
       "    </tr>\n",
       "    <tr>\n",
       "      <th>3</th>\n",
       "      <td>0.007100</td>\n",
       "      <td>0.002180</td>\n",
       "      <td>0.017900</td>\n",
       "      <td>0.002367</td>\n",
       "      <td>-2.523</td>\n",
       "      <td>1.095755e-04</td>\n",
       "      <td>-1.626260e-05</td>\n",
       "      <td>-0.000202</td>\n",
       "      <td>0.000010</td>\n",
       "    </tr>\n",
       "  </tbody>\n",
       "</table>\n",
       "</div>"
      ],
      "text/plain": [
       "   Align X[m]      C1A1      C1B1      C2A2   C2B2       psi1_Im  \\\n",
       "0    0.000002  0.000014 -0.000010  0.000751 -2.532 -6.321538e-08   \n",
       "1    0.003100  0.000962  0.007826  0.001985 -2.531  4.789807e-05   \n",
       "2    0.005110  0.001574  0.012880  0.002042 -2.527  7.884059e-05   \n",
       "3    0.007100  0.002180  0.017900  0.002367 -2.523  1.095755e-04   \n",
       "\n",
       "        psi1_Re   psi2_Im   psi2_Re  \n",
       "0 -8.454293e-08 -0.000202  0.000011  \n",
       "1 -7.167041e-06 -0.000202  0.000010  \n",
       "2 -1.173355e-05 -0.000202  0.000010  \n",
       "3 -1.626260e-05 -0.000202  0.000010  "
      ]
     },
     "execution_count": 10,
     "metadata": {},
     "output_type": "execute_result"
    }
   ],
   "source": [
    "_raw_data"
   ]
  },
  {
   "cell_type": "markdown",
   "metadata": {},
   "source": [
    "#### Using data and definition information to calculate complex harmonics:"
   ]
  },
  {
   "cell_type": "code",
   "execution_count": 11,
   "metadata": {},
   "outputs": [],
   "source": [
    "#Using data and definition information to calculate complex harmonics:\n",
    "_C1, _C2 = [], []         #Field complex harmonic coefficients\n",
    "_psi1, _psi2 = [], []     #FFT complex harmonic coefficients\n",
    "\n",
    "for i in range(len(_raw_data)):\n",
    "    _C1.append(complex(_raw_data.C1B1.iloc[i],\n",
    "                       _raw_data.C1A1.iloc[i]))\n",
    "    _C2.append(complex(_raw_data.C2B2.iloc[i],\n",
    "                       _raw_data.C2A2.iloc[i]))\n",
    "    _psi1.append(complex(_raw_data.psi1_Re.iloc[i],\n",
    "                         _raw_data.psi1_Im.iloc[i]))\n",
    "    _psi2.append(complex(_raw_data.psi2_Re.iloc[i],\n",
    "                         _raw_data.psi2_Im.iloc[i]))"
   ]
  },
  {
   "cell_type": "markdown",
   "metadata": {},
   "source": [
    "##### Coil Radius calculus using complex harmonics:"
   ]
  },
  {
   "cell_type": "code",
   "execution_count": 12,
   "metadata": {},
   "outputs": [
    {
     "data": {
      "image/png": "[encoded data removed]",
      "text/latex": [
       "$\\displaystyle \\left[ 0.01286769592586716, \\  0.012894525216835182, \\  0.012894692343587585\\right]$"
      ],
      "text/plain": [
       "[0.01286769592586716, 0.012894525216835182, 0.012894692343587585]"
      ]
     },
     "execution_count": 12,
     "metadata": {},
     "output_type": "execute_result"
    }
   ],
   "source": [
    "#Coil Radius calculus using complex harmonics:\n",
    "Rref = 0.013035      #Coil radius used for integrated field calculation\n",
    "_R_by_dx = []\n",
    "\n",
    "for i in range(1,len(_raw_data)):\n",
    "    _Rcn = (_raw_data['Align X[m]'].iloc[i]*_C2[0])/(_C1[i]-_C1[0])\n",
    "    _R_by_dx.append(-Rref*_Rcn.real)\n",
    "\n",
    "_R_by_dx"
   ]
  },
  {
   "cell_type": "code",
   "execution_count": 13,
   "metadata": {},
   "outputs": [
    {
     "data": {
      "image/png": "[encoded data removed]",
      "text/latex": [
       "$\\displaystyle 0.012885637828763308$"
      ],
      "text/plain": [
       "0.012885637828763308"
      ]
     },
     "execution_count": 13,
     "metadata": {},
     "output_type": "execute_result"
    }
   ],
   "source": [
    "abs(np.asarray(_R_by_dx, dtype='float').mean())"
   ]
  },
  {
   "cell_type": "markdown",
   "metadata": {},
   "source": [
    "#### Coil Radius by means Harmonic Complex error (%)"
   ]
  },
  {
   "cell_type": "code",
   "execution_count": 14,
   "metadata": {},
   "outputs": [
    {
     "data": {
      "image/png": "[encoded data removed]",
      "text/latex": [
       "$\\displaystyle -1.1458547850916156$"
      ],
      "text/plain": [
       "-1.1458547850916156"
      ]
     },
     "execution_count": 14,
     "metadata": {},
     "output_type": "execute_result"
    }
   ],
   "source": [
    "#Coil Radius error percentage by means Harmonic Complex(%)\n",
    "_Err = ((abs(np.asarray(_R_by_dx, dtype='float').mean())/Rref)-1)*100\n",
    "_Err"
   ]
  },
  {
   "cell_type": "markdown",
   "metadata": {},
   "source": [
    "#### _Coil Radius calculus using FFT coefficients:_"
   ]
  },
  {
   "cell_type": "code",
   "execution_count": 15,
   "metadata": {},
   "outputs": [
    {
     "name": "stdout",
     "output_type": "stream",
     "text": [
      "0.012899246396753147\n",
      "0.01292468986356901\n",
      "0.012924081050726335\n"
     ]
    }
   ],
   "source": [
    "#Coil Radius calculus using FFT coefficients:\n",
    "_Rpsi_by_dx = []\n",
    "for i in range(1,len(_raw_data)):\n",
    "    R_psi = -((_psi2[0])*_raw_data['Align X[m]'].iloc[i])/(_psi1[i]-_psi1[0])\n",
    "    _Rpsi_by_dx.append(R_psi.real)\n",
    "    print(_Rpsi_by_dx[i-1])"
   ]
  },
  {
   "cell_type": "code",
   "execution_count": 16,
   "metadata": {},
   "outputs": [
    {
     "data": {
      "image/png": "[encoded data removed]",
      "text/latex": [
       "$\\displaystyle 0.012916005770349497$"
      ],
      "text/plain": [
       "0.012916005770349497"
      ]
     },
     "execution_count": 16,
     "metadata": {},
     "output_type": "execute_result"
    }
   ],
   "source": [
    "#Average value for coil radius using FFT coeffs:\n",
    "_mean_Rpsi=0\n",
    "for item in _Rpsi_by_dx: _mean_Rpsi+=item/(len(_Rpsi_by_dx))\n",
    "_mean_Rpsi.real"
   ]
  },
  {
   "cell_type": "markdown",
   "metadata": {},
   "source": [
    "#### Coil Radius by means FFT coefficients error (%)"
   ]
  },
  {
   "cell_type": "code",
   "execution_count": 17,
   "metadata": {},
   "outputs": [
    {
     "data": {
      "image/png": "[encoded data removed]",
      "text/latex": [
       "$\\displaystyle -0.9128824675911251$"
      ],
      "text/plain": [
       "-0.9128824675911251"
      ]
     },
     "execution_count": 17,
     "metadata": {},
     "output_type": "execute_result"
    }
   ],
   "source": [
    "#Coil Radius error percentage by means FFT coefficients(%)\n",
    "_Err_psi = ((_mean_Rpsi.real/Rref)-1)*100\n",
    "_Err_psi"
   ]
  },
  {
   "cell_type": "code",
   "execution_count": 18,
   "metadata": {},
   "outputs": [],
   "source": [
    "#Summarizing radius table\n",
    "_radius_table = {'R by Complex coeffs (Cn)':_R_by_dx,\n",
    "                 'R by FFTs (Psi)': _Rpsi_by_dx}\n",
    "#Creating DataFrame\n",
    "_DF_radius = pd.DataFrame.from_dict(_radius_table)"
   ]
  },
  {
   "cell_type": "markdown",
   "metadata": {},
   "source": [
    "#### Summarizing the magnetic equivalent rotation radius (R) calculation"
   ]
  },
  {
   "cell_type": "code",
   "execution_count": 19,
   "metadata": {
    "scrolled": false
   },
   "outputs": [
    {
     "data": {
      "text/html": [
       "<div>\n",
       "<style scoped>\n",
       "    .dataframe tbody tr th:only-of-type {\n",
       "        vertical-align: middle;\n",
       "    }\n",
       "\n",
       "    .dataframe tbody tr th {\n",
       "        vertical-align: top;\n",
       "    }\n",
       "\n",
       "    .dataframe thead th {\n",
       "        text-align: right;\n",
       "    }\n",
       "</style>\n",
       "<table border=\"1\" class=\"dataframe\">\n",
       "  <thead>\n",
       "    <tr style=\"text-align: right;\">\n",
       "      <th></th>\n",
       "      <th>R by Complex coeffs (Cn)</th>\n",
       "      <th>R by FFTs (Psi)</th>\n",
       "      <th>Displacement X(m)</th>\n",
       "    </tr>\n",
       "  </thead>\n",
       "  <tbody>\n",
       "    <tr>\n",
       "      <th>0</th>\n",
       "      <td>0.012868</td>\n",
       "      <td>0.012899</td>\n",
       "      <td>0.00310</td>\n",
       "    </tr>\n",
       "    <tr>\n",
       "      <th>1</th>\n",
       "      <td>0.012895</td>\n",
       "      <td>0.012925</td>\n",
       "      <td>0.00511</td>\n",
       "    </tr>\n",
       "    <tr>\n",
       "      <th>2</th>\n",
       "      <td>0.012895</td>\n",
       "      <td>0.012924</td>\n",
       "      <td>0.00710</td>\n",
       "    </tr>\n",
       "  </tbody>\n",
       "</table>\n",
       "</div>"
      ],
      "text/plain": [
       "   R by Complex coeffs (Cn)  R by FFTs (Psi)  Displacement X(m)\n",
       "0                  0.012868         0.012899            0.00310\n",
       "1                  0.012895         0.012925            0.00511\n",
       "2                  0.012895         0.012924            0.00710"
      ]
     },
     "execution_count": 19,
     "metadata": {},
     "output_type": "execute_result"
    }
   ],
   "source": [
    "_DF_radius['Displacement X(m)'] = pd.Series([3.10E-03, 5.11E-03, 7.10E-03], index=_DF_radius.index)\n",
    "_DF_radius"
   ]
  },
  {
   "cell_type": "code",
   "execution_count": 20,
   "metadata": {},
   "outputs": [
    {
     "data": {
      "text/html": [
       "<div>\n",
       "<style scoped>\n",
       "    .dataframe tbody tr th:only-of-type {\n",
       "        vertical-align: middle;\n",
       "    }\n",
       "\n",
       "    .dataframe tbody tr th {\n",
       "        vertical-align: top;\n",
       "    }\n",
       "\n",
       "    .dataframe thead th {\n",
       "        text-align: right;\n",
       "    }\n",
       "</style>\n",
       "<table border=\"1\" class=\"dataframe\">\n",
       "  <thead>\n",
       "    <tr style=\"text-align: right;\">\n",
       "      <th></th>\n",
       "      <th>R by Complex coeffs (Cn)</th>\n",
       "      <th>R by FFTs (Psi)</th>\n",
       "      <th>Displacement X(m)</th>\n",
       "    </tr>\n",
       "  </thead>\n",
       "  <tbody>\n",
       "    <tr>\n",
       "      <th>count</th>\n",
       "      <td>3.000000</td>\n",
       "      <td>3.000000</td>\n",
       "      <td>3.000000</td>\n",
       "    </tr>\n",
       "    <tr>\n",
       "      <th>mean</th>\n",
       "      <td>0.012886</td>\n",
       "      <td>0.012916</td>\n",
       "      <td>0.005103</td>\n",
       "    </tr>\n",
       "    <tr>\n",
       "      <th>std</th>\n",
       "      <td>0.000016</td>\n",
       "      <td>0.000015</td>\n",
       "      <td>0.002000</td>\n",
       "    </tr>\n",
       "    <tr>\n",
       "      <th>min</th>\n",
       "      <td>0.012868</td>\n",
       "      <td>0.012899</td>\n",
       "      <td>0.003100</td>\n",
       "    </tr>\n",
       "    <tr>\n",
       "      <th>max</th>\n",
       "      <td>0.012895</td>\n",
       "      <td>0.012925</td>\n",
       "      <td>0.007100</td>\n",
       "    </tr>\n",
       "  </tbody>\n",
       "</table>\n",
       "</div>"
      ],
      "text/plain": [
       "       R by Complex coeffs (Cn)  R by FFTs (Psi)  Displacement X(m)\n",
       "count                  3.000000         3.000000           3.000000\n",
       "mean                   0.012886         0.012916           0.005103\n",
       "std                    0.000016         0.000015           0.002000\n",
       "min                    0.012868         0.012899           0.003100\n",
       "max                    0.012895         0.012925           0.007100"
      ]
     },
     "execution_count": 20,
     "metadata": {},
     "output_type": "execute_result"
    }
   ],
   "source": [
    "_summdf = _DF_radius.describe()\n",
    "_summdf.drop(index=['25%', '50%', '75%'], inplace=True)\n",
    "_summdf"
   ]
  },
  {
   "cell_type": "markdown",
   "metadata": {},
   "source": [
    "### Coil Sensitivity Factors (kn)"
   ]
  },
  {
   "cell_type": "code",
   "execution_count": 21,
   "metadata": {},
   "outputs": [],
   "source": [
    "def kn_sensitivity_coil(n, l=0.815, nt=9, r1=0, r2=Rref):\n",
    "    if n == 0:\n",
    "        return 'n can not be zero'\n",
    "    return (l*nt*(r1**n-r2**n))/(n)\n",
    "\n",
    "k1 = kn_sensitivity_coil(1)\n",
    "k2 = kn_sensitivity_coil(2)"
   ]
  },
  {
   "cell_type": "markdown",
   "metadata": {},
   "source": [
    "#### kn for n=1"
   ]
  },
  {
   "cell_type": "code",
   "execution_count": 22,
   "metadata": {},
   "outputs": [
    {
     "data": {
      "image/png": "[encoded data removed]",
      "text/latex": [
       "$\\displaystyle -0.09561172499999998$"
      ],
      "text/plain": [
       "-0.09561172499999998"
      ]
     },
     "execution_count": 22,
     "metadata": {},
     "output_type": "execute_result"
    }
   ],
   "source": [
    "k1"
   ]
  },
  {
   "cell_type": "markdown",
   "metadata": {},
   "source": [
    "#### kn for n=2"
   ]
  },
  {
   "cell_type": "code",
   "execution_count": 23,
   "metadata": {},
   "outputs": [
    {
     "data": {
      "image/png": "[encoded data removed]",
      "text/latex": [
       "$\\displaystyle -0.0006231494176874999$"
      ],
      "text/plain": [
       "-0.0006231494176874999"
      ]
     },
     "execution_count": 23,
     "metadata": {},
     "output_type": "execute_result"
    }
   ],
   "source": [
    "k2"
   ]
  },
  {
   "cell_type": "markdown",
   "metadata": {},
   "source": [
    "### Calculating displacement Delta Z (dz = 0.003m, dz = 0.005m, dz = 0.007m)"
   ]
  },
  {
   "cell_type": "code",
   "execution_count": 24,
   "metadata": {},
   "outputs": [
    {
     "data": {
      "image/png": "[encoded data removed]",
      "text/latex": [
       "$\\displaystyle \\left[ -0.003092058474911102, \\  -0.005096952908587258, \\  -0.007094728497820055\\right]$"
      ],
      "text/plain": [
       "[-0.003092058474911102, -0.005096952908587258, -0.007094728497820055]"
      ]
     },
     "execution_count": 24,
     "metadata": {},
     "output_type": "execute_result"
    }
   ],
   "source": [
    "_d_z = []\n",
    "for i in range(0,len(_raw_data)):\n",
    "    dz = (_C1[i].real/_C2[i].real)\n",
    "    _d_z.append(dz)    \n",
    "_d_z[1:]"
   ]
  },
  {
   "cell_type": "code",
   "execution_count": 25,
   "metadata": {},
   "outputs": [],
   "source": [
    "_deltaZ_table = {'Encoder': [3.10E-03, 5.11E-03, 7.10E-03],\n",
    "                 'Calculated':_d_z[1:]}\n",
    "#Creating Delta Z DataFrame\n",
    "_DF_deltaZ = pd.DataFrame.from_dict(_deltaZ_table)"
   ]
  },
  {
   "cell_type": "code",
   "execution_count": 26,
   "metadata": {},
   "outputs": [],
   "source": [
    "_DF_deltaZ['%'] = pd.Series((((abs(_DF_deltaZ.Calculated)/_DF_deltaZ.Encoder)-1)*100), index=_DF_deltaZ.index)"
   ]
  },
  {
   "cell_type": "code",
   "execution_count": 27,
   "metadata": {},
   "outputs": [
    {
     "data": {
      "text/html": [
       "<div>\n",
       "<style scoped>\n",
       "    .dataframe tbody tr th:only-of-type {\n",
       "        vertical-align: middle;\n",
       "    }\n",
       "\n",
       "    .dataframe tbody tr th {\n",
       "        vertical-align: top;\n",
       "    }\n",
       "\n",
       "    .dataframe thead th {\n",
       "        text-align: right;\n",
       "    }\n",
       "</style>\n",
       "<table border=\"1\" class=\"dataframe\">\n",
       "  <thead>\n",
       "    <tr style=\"text-align: right;\">\n",
       "      <th></th>\n",
       "      <th>Calculated</th>\n",
       "      <th>Encoder</th>\n",
       "      <th>%</th>\n",
       "    </tr>\n",
       "  </thead>\n",
       "  <tbody>\n",
       "    <tr>\n",
       "      <th>0</th>\n",
       "      <td>-0.003092</td>\n",
       "      <td>0.00310</td>\n",
       "      <td>-0.256178</td>\n",
       "    </tr>\n",
       "    <tr>\n",
       "      <th>1</th>\n",
       "      <td>-0.005097</td>\n",
       "      <td>0.00511</td>\n",
       "      <td>-0.255325</td>\n",
       "    </tr>\n",
       "    <tr>\n",
       "      <th>2</th>\n",
       "      <td>-0.007095</td>\n",
       "      <td>0.00710</td>\n",
       "      <td>-0.074247</td>\n",
       "    </tr>\n",
       "  </tbody>\n",
       "</table>\n",
       "</div>"
      ],
      "text/plain": [
       "   Calculated  Encoder         %\n",
       "0   -0.003092  0.00310 -0.256178\n",
       "1   -0.005097  0.00511 -0.255325\n",
       "2   -0.007095  0.00710 -0.074247"
      ]
     },
     "execution_count": 27,
     "metadata": {},
     "output_type": "execute_result"
    }
   ],
   "source": [
    "_DF_deltaZ"
   ]
  },
  {
   "cell_type": "markdown",
   "metadata": {},
   "source": [
    "### Uncertainty"
   ]
  },
  {
   "cell_type": "code",
   "execution_count": 28,
   "metadata": {},
   "outputs": [],
   "source": [
    "# Variables\n",
    "u_r0, sigma_r0, R_0, sigma_acm, u_am, u_kn = symbols('u_R0 sigma_R_0 R_0 sigma_A_cm u_A_cm u_kappa_n')\n",
    "sigma_Psi2, sigma_dz, sigma_Psi1, sigma_c2 = symbols('sigma_Psi_2 sigma_Delta_z sigma_Psi_1 sigma_C_2')\n",
    "A_cm, sigma_kn = symbols('A_cm sigma_kappa_n')"
   ]
  },
  {
   "cell_type": "markdown",
   "metadata": {},
   "source": [
    "#### The uncertainty on R0 is obtained by propagation through equation:"
   ]
  },
  {
   "cell_type": "code",
   "execution_count": 29,
   "metadata": {},
   "outputs": [
    {
     "data": {
      "image/png": "[encoded data removed]",
      "text/latex": [
       "$\\displaystyle u_{R0} = \\frac{\\sigma_{R 0}}{R_{0}}$"
      ],
      "text/plain": [
       "       σ_R_0\n",
       "u_R0 = ─────\n",
       "         R₀ "
      ]
     },
     "execution_count": 29,
     "metadata": {},
     "output_type": "execute_result"
    }
   ],
   "source": [
    "_uncer_r = Eq(u_r0,sigma_r0/R_0)\n",
    "_uncer_r"
   ]
  },
  {
   "cell_type": "code",
   "execution_count": 30,
   "metadata": {},
   "outputs": [
    {
     "data": {
      "image/png": "[encoded data removed]",
      "text/latex": [
       "$\\displaystyle \\frac{\\sigma_{R 0}}{R_{0}} = \\sqrt{\\frac{\\sigma_{\\Delta z}^{2}}{\\Delta_{z}^{2}} + \\frac{\\Delta_{z}^{2} \\sigma_{\\Psi 2}^{2}}{\\Delta_{\\Psi 1}^{2} \\Psi_{2}^{2}}}$"
      ],
      "text/plain": [
       "              ______________________\n",
       "             ╱      2      2      2 \n",
       "σ_R_0       ╱  σ_Δ_z    Δ_z ⋅σ_Ψ_2  \n",
       "───── =    ╱   ────── + ─────────── \n",
       "  R₀      ╱        2          2   2 \n",
       "        ╲╱      Δ_z      Δ_Ψ_1 ⋅Ψ₂  "
      ]
     },
     "execution_count": 30,
     "metadata": {},
     "output_type": "execute_result"
    }
   ],
   "source": [
    "_u_r = Eq(_uncer_r.rhs,sqrt((delta_z/delta_psi1)**2*(sigma_Psi2**2/psi_2**2) + (sigma_dz**2/delta_z**2)))\n",
    "_u_r"
   ]
  },
  {
   "cell_type": "markdown",
   "metadata": {},
   "source": [
    "The uR0 is dominated by the displacement uncertainty."
   ]
  },
  {
   "cell_type": "code",
   "execution_count": 31,
   "metadata": {},
   "outputs": [
    {
     "name": "stdout",
     "output_type": "stream",
     "text": [
      "0.3085641516571783\n",
      "0.3091662391647922\n",
      "0.30971251328020666\n"
     ]
    }
   ],
   "source": [
    "_u = []\n",
    "for i in range(1,4):\n",
    "    num = (((_d_z[i]/(_psi1[i]-_psi1[0]))**2)*(((1e-06)**2)/(_psi2[0])**2)+((10e-6)**2/(_d_z[i])**2))**(1/2)\n",
    "    _u.append(num)\n",
    "    print(_u[i-1].real)\n",
    "#_u"
   ]
  },
  {
   "cell_type": "markdown",
   "metadata": {},
   "source": [
    "#### The uncertainty on Acm is derived from:"
   ]
  },
  {
   "cell_type": "code",
   "execution_count": 32,
   "metadata": {},
   "outputs": [
    {
     "data": {
      "image/png": "[encoded data removed]",
      "text/latex": [
       "$\\displaystyle u_{A cm} = \\frac{\\sigma_{A cm}}{A_{cm}}$"
      ],
      "text/plain": [
       "         σ_A_cm\n",
       "u_A_cm = ──────\n",
       "          A_cm "
      ]
     },
     "execution_count": 32,
     "metadata": {},
     "output_type": "execute_result"
    }
   ],
   "source": [
    "_uncer_a = Eq(u_am, sigma_acm/A_cm)\n",
    "_uncer_a"
   ]
  },
  {
   "cell_type": "code",
   "execution_count": 33,
   "metadata": {},
   "outputs": [
    {
     "data": {
      "image/png": "[encoded data removed]",
      "text/latex": [
       "$\\displaystyle \\frac{\\sigma_{A cm}}{A_{cm}} = \\sqrt{\\frac{\\sigma_{\\Psi 1}^{2}}{\\Psi_{1}} + \\frac{\\sigma_{\\Delta z}^{2}}{\\Delta_{z}^{2}} + \\frac{\\sigma_{C 2}^{2}}{C_{2}^{2}}}$"
      ],
      "text/plain": [
       "               __________________________\n",
       "              ╱      2        2        2 \n",
       "σ_A_cm       ╱  σ_Ψ_1    σ_Δ_z    σ_C_2  \n",
       "────── =    ╱   ────── + ────── + ────── \n",
       " A_cm      ╱      Ψ₁         2       2   \n",
       "         ╲╱               Δ_z      C₂    "
      ]
     },
     "execution_count": 33,
     "metadata": {},
     "output_type": "execute_result"
    }
   ],
   "source": [
    "_u_a = Eq(_uncer_a.rhs, sqrt((sigma_dz)**2/(delta_z)**2 + (sigma_c2)**2/(C2)**2 + (sigma_Psi1)**2/psi_1))\n",
    "_u_a"
   ]
  },
  {
   "cell_type": "code",
   "execution_count": 34,
   "metadata": {},
   "outputs": [
    {
     "data": {
      "image/png": "[encoded data removed]",
      "text/latex": [
       "$\\displaystyle \\left[ 0.00321269064916471, \\  0.00194051892962598, \\  0.00138807872210281\\right]$"
      ],
      "text/plain": [
       "[0.00321269064916471, 0.00194051892962598, 0.00138807872210281]"
      ]
     },
     "execution_count": 34,
     "metadata": {},
     "output_type": "execute_result"
    }
   ],
   "source": [
    "_uacm = []\n",
    "for i in range(1,4):\n",
    "    value = sqrt((1e-06**2/_psi1[i].real)+(10e-6**2/(_d_z[i])**2)+((100/1E+6)**2/_C2[i].real**2))\n",
    "    _uacm.append(value)\n",
    "_uacm"
   ]
  },
  {
   "cell_type": "markdown",
   "metadata": {},
   "source": [
    "#### The uncertainty on Kn is derived from:"
   ]
  },
  {
   "cell_type": "code",
   "execution_count": 35,
   "metadata": {},
   "outputs": [
    {
     "data": {
      "image/png": "[encoded data removed]",
      "text/latex": [
       "$\\displaystyle u_{\\kappa n} = \\frac{\\sigma_{\\kappa n}}{\\kappa_{n}}$"
      ],
      "text/plain": [
       "           σₖₐₚₚₐ ₙ\n",
       "uₖₐₚₚₐ ₙ = ────────\n",
       "              κₙ   "
      ]
     },
     "execution_count": 35,
     "metadata": {},
     "output_type": "execute_result"
    }
   ],
   "source": [
    "_uncer_kn = Eq(u_kn,sigma_kn/kappa_n)\n",
    "_uncer_kn"
   ]
  },
  {
   "cell_type": "code",
   "execution_count": 36,
   "metadata": {},
   "outputs": [
    {
     "data": {
      "image/png": "[encoded data removed]",
      "text/latex": [
       "$\\displaystyle \\frac{\\sigma_{\\kappa n}}{\\kappa_{n}} = n \\left(\\frac{\\sigma_{R 0}}{R_{0}} + \\frac{\\sigma_{A cm}}{2 A_{cm}}\\right)$"
      ],
      "text/plain": [
       "σₖₐₚₚₐ ₙ     ⎛σ_R_0   σ_A_cm⎞\n",
       "──────── = n⋅⎜───── + ──────⎟\n",
       "   κₙ        ⎝  R₀    2⋅A_cm⎠"
      ]
     },
     "execution_count": 36,
     "metadata": {},
     "output_type": "execute_result"
    }
   ],
   "source": [
    "_u_kn = Eq(_uncer_kn.rhs, n*((sigma_r0/R_0) + (sigma_acm/(2*A_cm))))\n",
    "_u_kn"
   ]
  },
  {
   "cell_type": "code",
   "execution_count": 37,
   "metadata": {},
   "outputs": [],
   "source": [
    "def uncertainty_kn(n):\n",
    "    array = []\n",
    "    for i in range(1,4):\n",
    "        value = n*(_u[i-1].real + (_uacm[i-1]/2))\n",
    "        array.append(value)\n",
    "    return array"
   ]
  },
  {
   "cell_type": "code",
   "execution_count": 38,
   "metadata": {},
   "outputs": [],
   "source": [
    "_uncer_kn_1 = uncertainty_kn(1)\n",
    "_uncer_kn_2 = uncertainty_kn(2)"
   ]
  },
  {
   "cell_type": "code",
   "execution_count": 39,
   "metadata": {},
   "outputs": [
    {
     "data": {
      "image/png": "[encoded data removed]",
      "text/latex": [
       "$\\displaystyle \\left[ 0.310170496981761, \\  0.310136498629605, \\  0.310406552641258\\right]$"
      ],
      "text/plain": [
       "[0.310170496981761, 0.310136498629605, 0.310406552641258]"
      ]
     },
     "execution_count": 39,
     "metadata": {},
     "output_type": "execute_result"
    }
   ],
   "source": [
    "_uncer_kn_1"
   ]
  },
  {
   "cell_type": "code",
   "execution_count": 40,
   "metadata": {},
   "outputs": [
    {
     "data": {
      "image/png": "[encoded data removed]",
      "text/latex": [
       "$\\displaystyle \\left[ 0.620340993963521, \\  0.62027299725921, \\  0.620813105282516\\right]$"
      ],
      "text/plain": [
       "[0.620340993963521, 0.62027299725921, 0.620813105282516]"
      ]
     },
     "execution_count": 40,
     "metadata": {},
     "output_type": "execute_result"
    }
   ],
   "source": [
    "_uncer_kn_2"
   ]
  }
 ],
 "metadata": {
  "kernelspec": {
   "display_name": "Python 3",
   "language": "python",
   "name": "python3"
  },
  "language_info": {
   "codemirror_mode": {
    "name": "ipython",
    "version": 3
   },
   "file_extension": ".py",
   "mimetype": "text/x-python",
   "name": "python",
   "nbconvert_exporter": "python",
   "pygments_lexer": "ipython3",
   "version": "3.6.4"
  }
 },
 "nbformat": 4,
 "nbformat_minor": 2
}
